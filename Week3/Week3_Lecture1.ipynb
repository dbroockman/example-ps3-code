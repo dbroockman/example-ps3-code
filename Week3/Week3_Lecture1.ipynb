{
 "cells": [
  {
   "cell_type": "markdown",
   "metadata": {},
   "source": [
    "# POLSCI 3\n",
    "\n",
    "## Week 3, Lecture 1: One-Way and Two-Way Tables in R\n",
    "\n",
    "Tables are one of the most common tools for summarizing your data, especially with *categorical variables*.\n",
    "\n",
    "Some variables are inherently categorical. For example, a categorical variable called `color` might contain categorical values like \"blue\" and \"red\".\n",
    "\n",
    "Other categorical variables might summarize *continuous* variables. For example, height is a continuous variable (71 inches, 71.0052 inches, etc.). But, we also might categorize people's heights as \"tall,\" \"short,\" or \"neither\".\n",
    "\n",
    "Today, we will look at one-way and two-way tables, which are common ways of summarizing categorical variables."
   ]
  },
  {
   "cell_type": "markdown",
   "metadata": {},
   "source": [
    "### One-Way Tables\n",
    "\n",
    "One-way tables can help us see data in a simpler way, and they can make interpretation of our datasets easier as well. We can start by loading in our data."
   ]
  },
  {
   "cell_type": "code",
   "execution_count": null,
   "metadata": {},
   "outputs": [],
   "source": [
    "happiness_data <- read.csv('happiness_polity_2018.csv')\n",
    "head(happiness_data)"
   ]
  },
  {
   "cell_type": "markdown",
   "metadata": {},
   "source": [
    "This dataset contains data from world countries in terms of factors such as happiness levels, political categories, and demographic information. Here's a codebook:\n",
    "\n",
    "- <code>polity2</code>: The \"Polity Score\" of the country, which measures its political system on a 21-point scale ranging from -10 (hereditary monarchy) to +10 (consolidated democracy).\n",
    "- <code>polity2_cat</code>: The political category the country is identified within. \"autocracies\" are on one end of the spectrum, \"anocracies\" are in the middle (semi-democracies), and \"democracies\" are at the top of the spectrum.\n",
    "- <code>gdpcapita</code>: GDP per Capita (economic output per person)\n",
    "- <code>gdpcapita_cat</code>: GDP/income category that the country falls into (based on GDP per capita)\n",
    "- <code>happiness</code>: The country's happiness index, measured through surveys that require participants to rank their level of happiness based on an assortment of quality-of-life factors\n",
    "- <code>happiness_cat</code>: Happiness category that the country falls into (based on happpiness indicator)\n",
    "- <code>life_expectancy</code>: Average life expectancy in years\n",
    "- <code>life_expectancy_cat</code>: Life Expectancy category that the country falls into"
   ]
  },
  {
   "cell_type": "markdown",
   "metadata": {},
   "source": [
    "Let's start by creating a one way table. This dataset shows demographic data relating to happiness from various global countries. Suppose we want to see what the most common global income category is. We are going to use the <code>table()</code> function with an argument of which column we want to interpret."
   ]
  },
  {
   "cell_type": "code",
   "execution_count": null,
   "metadata": {},
   "outputs": [],
   "source": [
    "table(happiness_data$gdpcapita_cat)"
   ]
  },
  {
   "cell_type": "code",
   "execution_count": null,
   "metadata": {},
   "outputs": [],
   "source": [
    "table(happiness_data$polity2_cat)"
   ]
  },
  {
   "cell_type": "markdown",
   "metadata": {},
   "source": [
    "This example also shows why categorical variables can be useful. It's really not that useful to make a table of all the values of `gdpcapita`:"
   ]
  },
  {
   "cell_type": "code",
   "execution_count": null,
   "metadata": {},
   "outputs": [],
   "source": [
    "table(happiness_data$gdpcapita)"
   ]
  },
  {
   "cell_type": "markdown",
   "metadata": {},
   "source": [
    "That is not very useful!\n",
    "\n",
    "We can also subset data before putting it into a table. For example, let's say we want to look at the political categories among only rich countries."
   ]
  },
  {
   "cell_type": "code",
   "execution_count": null,
   "metadata": {},
   "outputs": [],
   "source": [
    "richcountries <- subset(happiness_data, gdpcapita_cat == 'rich')\n",
    "\n",
    "table(richcountries$polity2_cat)"
   ]
  },
  {
   "cell_type": "markdown",
   "metadata": {},
   "source": [
    "Tables are one of the easiest ways to understand the values of categorical variables in a dataset.\n",
    "\n",
    "This can be really helpful when first opening up a dataset and understanding what values a variable has."
   ]
  },
  {
   "cell_type": "markdown",
   "metadata": {},
   "source": [
    "#### Interpreting One-Way Tables"
   ]
  },
  {
   "cell_type": "markdown",
   "metadata": {},
   "source": [
    "One-way tables can also be referred to as frequency tables.\n",
    "\n",
    "By putting a categorical variable from a dataset into a table, we can learn how many values of each specific category are present in that dataset. For example, in the first table above, we learn that a majority of countries (64 out of 131) are classified as middle-income based on their GDP per Capita."
   ]
  },
  {
   "cell_type": "markdown",
   "metadata": {},
   "source": [
    "## What about relationships between variables?\n",
    "\n",
    "### Science in the abstract\n",
    "\n",
    "Almost all scientific research involves looking at relationships between variables, not just measuring on particular variable.\n",
    "\n",
    "Science in the abstract looks something like this:\n",
    "\n",
    "$$\\text{Theory} \\rightarrow \\text{Hypotheses} \\rightarrow \\text{Empirical Test} \\rightarrow \\text{Re-Evaluate Theory} \\rightarrow \\text{Scientific Knowledge}$$\n",
    "\n",
    "In science, we first come up a proposed explanation about the world, a _theory_. But just because we came up with a theory doesn't mean it's right. To test our theories, we think about _hypotheses_, or testable propositions that should hold if the theory is true. Next, we find data where we can _empirically test_ those hypotheses --- that is, use data to test them. Finally, we look at the results and re-evaluate our theory. This process leads to scientific knowledge.\n",
    "\n",
    "For example, one theory in political science argues that, as countries economically develop, citizens start demanding democracy. (American foreign policy elites, for example, expected this to happen in China.) One hypothesis that theory implies is that wealthier countries should be more likely to be democracies. To test that, we can use the data we've been looking at in today's notebook. But we need to look at two variables at once. To do so...\n",
    "\n",
    "\n",
    "### Two-Way Tables \n",
    "\n",
    "Two-way tables allow us to see how values of one variable correspond with another. For example, instead of just looking at polity scores among rich countries, we can look at polity scores among countries of each income level in one table. We'll see an example of this in a moment.\n",
    "\n",
    "To do this, we use the same `table()` command, but instead we give it *two* variables, separated by a comma. The first variable is the variable that we want to go along each row, and the second is the variable we want to go along each column.\n",
    "\n",
    "Let's group GDP categories with political categories to see how many countries fit into each of the groupings:"
   ]
  },
  {
   "cell_type": "code",
   "execution_count": null,
   "metadata": {},
   "outputs": [],
   "source": [
    "table(happiness_data$polity2_cat, happiness_data$gdpcapita_cat)"
   ]
  },
  {
   "cell_type": "markdown",
   "metadata": {},
   "source": [
    "Let's look at these same variables but this time we will subset once again. We can look at countries where the happiness index is above 5. "
   ]
  },
  {
   "cell_type": "code",
   "execution_count": null,
   "metadata": {},
   "outputs": [],
   "source": [
    "highhappiness <- subset(happiness_data, happiness > 5)\n",
    "table(highhappiness$polity2_cat, highhappiness$gdpcapita_cat)"
   ]
  },
  {
   "cell_type": "markdown",
   "metadata": {},
   "source": [
    "Is this good evidence for the theory that economic development causes countries to become more democratic? Let's talk about that next time."
   ]
  },
  {
   "cell_type": "markdown",
   "metadata": {},
   "source": [
    "### P.S. Tables can be stored in variables!\n",
    "\n",
    "In class, you'll be saving the results of tables in variables so they can be autograded. I just wanted to let you know, this does work."
   ]
  },
  {
   "cell_type": "code",
   "execution_count": null,
   "metadata": {},
   "outputs": [],
   "source": [
    "happiness.by.gdp <- table(happiness_data$polity2_cat, happiness_data$gdpcapita_cat)"
   ]
  },
  {
   "cell_type": "code",
   "execution_count": null,
   "metadata": {},
   "outputs": [],
   "source": [
    "happiness.by.gdp"
   ]
  },
  {
   "cell_type": "markdown",
   "metadata": {},
   "source": [
    "## Review\n",
    "\n",
    "We learned two new R functions today:\n",
    "\n",
    "- `table(dataset$variable)`\n",
    "- `table(dataset$first.variable, dataset$second.variable)`\n",
    "\n",
    "And we were introduced to the idea of how science works in the abstract, working from theory, to hypothesis, to empirical test, to a re-evaluation of the theory."
   ]
  }
 ],
 "metadata": {
  "kernelspec": {
   "display_name": "R",
   "language": "R",
   "name": "ir"
  },
  "language_info": {
   "codemirror_mode": "r",
   "file_extension": ".r",
   "mimetype": "text/x-r-source",
   "name": "R",
   "pygments_lexer": "r",
   "version": "4.1.2"
  },
  "latex_envs": {
   "LaTeX_envs_menu_present": true,
   "autoclose": false,
   "autocomplete": true,
   "bibliofile": "biblio.bib",
   "cite_by": "apalike",
   "current_citInitial": 1,
   "eqLabelWithNumbers": true,
   "eqNumInitial": 1,
   "hotkeys": {
    "equation": "Ctrl-E",
    "itemize": "Ctrl-I"
   },
   "labels_anchors": false,
   "latex_user_defs": false,
   "report_style_numbering": false,
   "user_envs_cfg": false
  }
 },
 "nbformat": 4,
 "nbformat_minor": 2
}
