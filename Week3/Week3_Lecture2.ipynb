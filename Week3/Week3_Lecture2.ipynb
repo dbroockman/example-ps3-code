{
 "cells": [
  {
   "cell_type": "markdown",
   "metadata": {},
   "source": [
    "# POLSCI 3\n",
    "\n",
    "## Week 3, Lecture 2: Correlation is not causation\n",
    "\n",
    "In this notebook, we will dive deeper into tables and relationships between different variables!\n",
    "\n",
    "As always, we can start by loading in our data. We are going to continue to work with the happiness dataset from the previous lecture."
   ]
  },
  {
   "cell_type": "code",
   "execution_count": null,
   "metadata": {},
   "outputs": [],
   "source": [
    "happiness_data <- read.csv('happiness_polity_2018.csv')\n",
    "head(happiness_data)"
   ]
  },
  {
   "cell_type": "markdown",
   "metadata": {},
   "source": [
    "Again, here's the codebook:\n",
    "\n",
    "- <code>polity2</code>: The \"Polity Score\" of the country, which measures its political system on a 21-pont scale ranging from -10 (hereditary monarchy) to +10 (consolidated democracy).\n",
    "- <code>polity2_cat</code>: The political category the country is identified within. \"autocracies\" are on one end of the spectrum, \"anocracies\" are in the middle (semi-democracies), and \"democracies\" are at the top of the spectrum.\n",
    "- <code>gdpcapita</code>: GDP per Capita (economic output per person)\n",
    "- <code>gdpcapita_cat</code>: GDP/income category that the country falls into (based on GDP per capita)\n",
    "- <code>happiness</code>: The country's happiness index, measured through surveys that require participants to rank their level of happiness based on an assortment of quality-of-life factors\n",
    "- <code>happiness_cat</code>: Happiness category that the country falls into (based on happpiness indicator)\n",
    "- <code>life_expectancy</code>: Average life expectancy in years\n",
    "- <code>life_expectancy_cat</code>: Life Expectancy category that the country falls into"
   ]
  },
  {
   "cell_type": "markdown",
   "metadata": {},
   "source": [
    "### Testing a theory\n",
    "\n",
    "Suppose a psychologist had a _theory_ that happiness causes a longer life, _hypothesized_ that happier countries would therefore have people who lived longer, and decided to _empirically test_ this hypothesis in the dataset we're looking at this week.\n",
    "\n",
    "To do so, we can look at this two-way table:"
   ]
  },
  {
   "cell_type": "code",
   "execution_count": null,
   "metadata": {},
   "outputs": [],
   "source": [
    "table(happiness_data$life_expectancy_cat, happiness_data$happiness_cat)"
   ]
  },
  {
   "cell_type": "markdown",
   "metadata": {},
   "source": [
    "One might look at this and be *tempted* to conclude that being happy causes people live longer. Is the theory supported?\n",
    "\n",
    "But wait a minute... *there might be other explanations for this relationship*.\n",
    "\n",
    "When trying to establish a causal relationship that A causes B, people are aruging that:\n",
    "\n",
    "$$A \\rightarrow B$$\n",
    "\n",
    "### Reverse Causation\n",
    "\n",
    "Is it that living longer causes one to be happier? This would be called **reverse causation**; if we think A causes B because there is a relationship between A and B, **reverse causation** is the possibility that B actually causes A.\n",
    "\n",
    "$$B \\rightarrow A$$\n",
    "\n",
    "Or, wait... maybe there is something else explaining this. The next table we will create is also looking at life expectancy, but this time pairing it with political system categories. "
   ]
  },
  {
   "cell_type": "code",
   "execution_count": null,
   "metadata": {},
   "outputs": [],
   "source": [
    "table(happiness_data$life_expectancy_cat, happiness_data$polity2_cat)"
   ]
  },
  {
   "cell_type": "markdown",
   "metadata": {},
   "source": [
    "### Omitted Variable Bias\n",
    "\n",
    "Maybe what's really going on is that democracies are causing people to be happier and to live longer. This would be an example of **omitted variable bias**: there is a third factor, C, which causes both A and B. This would lead A to be related to B, even if A doesn't cause B.\n",
    "\n",
    "$$C \\rightarrow A \\text{ and } B$$\n",
    "\n",
    "Democracy isn't the only possible omitted variable, though.\n",
    "\n",
    "One of the most important lessons in this class is that *correlation is not causation*. Life expectancy, happiness, and political regime type are related, but just from the fact that they are related, we don't know what causes what.\n",
    "\n",
    "One of the most important skills you can learn in this class is how to tell stories about why a correlation isn't necessarily causal. To do so, think about possibilities for reverse causation and omitted variable bias:\n",
    "\n",
    "- **Reverse causation**: When A is related to B and someone argues A causes B, but, in fact, B might cause A\n",
    "- **Omitted variable bias**: When A is related to B and someone argues A causes B, but, in fact, C might both A and B\n"
   ]
  },
  {
   "cell_type": "markdown",
   "metadata": {},
   "source": [
    "### Back to science in the abstract\n",
    "\n",
    "There's a few difficult parts of the scientific method, including:\n",
    "- coming up with theories in the first place\n",
    "- coming up with hypotheses that can help understand whether those theories have merit\n",
    "- coming up with empirical tests that test the hypothesis holds or not\n",
    "\n",
    "All these steps can be difficult. This last step is much trickier than it looks. Often times, evidence that could be consistent with a hypothesis could also be interpreted as _inconsistent_ with it due to _alternative explanations_. One of our most important jobs as critical consumers of data is to think of potential alternative explanations for an empirical pattern, since this helps us evaluate whether the empirical test is actually consistent with the hypothesis, or might not actually say much about it at all.\n",
    "\n",
    "The data we've looked at this week, I would say, hasn't said much about these hypotheses at all -- because it's just too likely that reverse causation and omitted variable bias could be responsible for these empirical patterns instead."
   ]
  }
 ],
 "metadata": {
  "kernelspec": {
   "display_name": "R",
   "language": "R",
   "name": "ir"
  },
  "language_info": {
   "codemirror_mode": "r",
   "file_extension": ".r",
   "mimetype": "text/x-r-source",
   "name": "R",
   "pygments_lexer": "r",
   "version": "4.1.2"
  },
  "latex_envs": {
   "LaTeX_envs_menu_present": true,
   "autoclose": false,
   "autocomplete": true,
   "bibliofile": "biblio.bib",
   "cite_by": "apalike",
   "current_citInitial": 1,
   "eqLabelWithNumbers": true,
   "eqNumInitial": 1,
   "hotkeys": {
    "equation": "Ctrl-E",
    "itemize": "Ctrl-I"
   },
   "labels_anchors": false,
   "latex_user_defs": false,
   "report_style_numbering": false,
   "user_envs_cfg": false
  }
 },
 "nbformat": 4,
 "nbformat_minor": 2
}
